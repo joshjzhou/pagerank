{
 "cells": [
  {
   "cell_type": "code",
   "execution_count": 1,
   "metadata": {},
   "outputs": [],
   "source": [
    "using LinearAlgebra\n",
    "using JSON\n",
    "using CSVFiles, DataFrames"
   ]
  },
  {
   "cell_type": "code",
   "execution_count": 7,
   "metadata": {},
   "outputs": [
    {
     "data": {
      "text/plain": [
       "generateMarkovMatFixed (generic function with 1 method)"
      ]
     },
     "execution_count": 7,
     "metadata": {},
     "output_type": "execute_result"
    }
   ],
   "source": [
    "#Helper Function with Finding Index\n",
    "function findInd(websites, websiteName)\n",
    "    for i in 1:size(websites, 1)\n",
    "        if websites[i] == websiteName\n",
    "            return i\n",
    "        end\n",
    "    end\n",
    "end\n",
    "\n",
    "#Generate Markov Matrix Function for fixed example\n",
    "function generateMarkovMatFixed(websites, websiteLinks)\n",
    "    numWebsites = size(websites, 1)\n",
    "    m = zeros((numWebsites, numWebsites))\n",
    "    for i in 1:numWebsites\n",
    "        linkedSites = websiteLinks[i]\n",
    "        for j in 1:size(linkedSites, 1)\n",
    "            m[CartesianIndex.(findInd(websites, linkedSites[j]), i)] = 1/size(linkedSites, 1)\n",
    "        end\n",
    "    end\n",
    "    return m\n",
    "end"
   ]
  },
  {
   "cell_type": "code",
   "execution_count": 23,
   "metadata": {},
   "outputs": [
    {
     "data": {
      "text/plain": [
       "result (generic function with 1 method)"
      ]
     },
     "execution_count": 23,
     "metadata": {},
     "output_type": "execute_result"
    }
   ],
   "source": [
    "#returns array of results where priority is in increasing order (1 is highest priority)\n",
    "function result(websites, markov)\n",
    "    pi = markov[:, 1]\n",
    "    results = zeros((size(websites, 1), 1))\n",
    "    sort = sortperm(pi)\n",
    "    for i in 1:size(websites, 1)\n",
    "        results[sort[i]] = size(websites, 1) - i + 1\n",
    "    end\n",
    "    return results\n",
    "end"
   ]
  },
  {
   "cell_type": "code",
   "execution_count": 33,
   "metadata": {},
   "outputs": [
    {
     "data": {
      "text/plain": [
       "pageRankWithDamping (generic function with 1 method)"
      ]
     },
     "execution_count": 33,
     "metadata": {},
     "output_type": "execute_result"
    }
   ],
   "source": [
    "#page rank w/damping\n",
    "function pageRankWithDamping(matrix)\n",
    "    p = 0.15\n",
    "    B = ones(size(matrix)) * 1/size(matrix)[1]\n",
    "    return ((1 - p) * matrix + p * B)^100\n",
    "end"
   ]
  },
  {
   "cell_type": "markdown",
   "metadata": {},
   "source": [
    "## Connected Graph"
   ]
  },
  {
   "cell_type": "code",
   "execution_count": 5,
   "metadata": {},
   "outputs": [
    {
     "name": "stdout",
     "output_type": "stream",
     "text": [
      "google.com's links: [\"diderot.com\", \"youtube.com\", \"gmail.com\", \"zoom.com\"]\n",
      "diderot.com's links: [\"google.com\", \"gmail.com\", \"zoom.com\"]\n",
      "discord.com's links: [\"google.com\", \"youtube.com\", \"diderot.com\"]\n",
      "youtube.com's links: [\"gmail.com\", \"google.com\"]\n",
      "gmail.com's links: [\"google.com\", \"diderot.com\", \"zoom.com\", \"discord.com\"]\n",
      "zoom.com's links: [\"youtube.com\", \"google.com\", \"gmail.com\"]\n",
      "\n"
     ]
    }
   ],
   "source": [
    "#Instantiate input data\n",
    "\n",
    "websites = [\"google.com\", \"diderot.com\", \"discord.com\", \"youtube.com\", \"gmail.com\", \"zoom.com\"]\n",
    "\n",
    "websiteLinks= Dict(1=>[\"diderot.com\", \"youtube.com\", \"gmail.com\", \"zoom.com\"],  #google.com\n",
    "                   2=>[\"google.com\", \"gmail.com\", \"zoom.com\"],  #diderot.com\n",
    "                   3=>[\"google.com\", \"youtube.com\", \"diderot.com\"],  #discord.com\n",
    "                   4=>[\"gmail.com\", \"google.com\"], #youtube.com\n",
    "                   5=>[\"google.com\", \"diderot.com\", \"zoom.com\", \"discord.com\"], #gmail.com\n",
    "                   6=>[\"youtube.com\", \"google.com\", \"gmail.com\"]) #zoom.com \n",
    "\n",
    "# dicts may be looped through using the keys function:\n",
    "for k in sort(collect(keys(websiteLinks)))\n",
    "    print(websites[k], \"'s links: \", websiteLinks[k], \"\\n\")\n",
    "end\n",
    "println()"
   ]
  },
  {
   "cell_type": "code",
   "execution_count": 8,
   "metadata": {},
   "outputs": [
    {
     "data": {
      "text/plain": [
       "6×6 Array{Float64,2}:\n",
       " 0.0   0.333333  0.333333  0.5  0.25  0.333333\n",
       " 0.25  0.0       0.333333  0.0  0.25  0.0\n",
       " 0.0   0.0       0.0       0.0  0.25  0.0\n",
       " 0.25  0.0       0.333333  0.0  0.0   0.333333\n",
       " 0.25  0.333333  0.0       0.5  0.0   0.333333\n",
       " 0.25  0.333333  0.0       0.0  0.25  0.0"
      ]
     },
     "execution_count": 8,
     "metadata": {},
     "output_type": "execute_result"
    }
   ],
   "source": [
    "X = generateMarkovMatFixed(websites, websiteLinks)"
   ]
  },
  {
   "cell_type": "code",
   "execution_count": 35,
   "metadata": {},
   "outputs": [
    {
     "data": {
      "text/plain": [
       "6×6 Array{Float64,2}:\n",
       " 0.243715   0.243715   0.243715   0.243715   0.243715   0.243715\n",
       " 0.145674   0.145674   0.145674   0.145674   0.145674   0.145674\n",
       " 0.0731568  0.0731568  0.0731568  0.0731568  0.0731568  0.0731568\n",
       " 0.144613   0.144613   0.144613   0.144613   0.144613   0.144613\n",
       " 0.22662    0.22662    0.22662    0.22662    0.22662    0.22662\n",
       " 0.166221   0.166221   0.166221   0.166221   0.166221   0.166221"
      ]
     },
     "execution_count": 35,
     "metadata": {},
     "output_type": "execute_result"
    }
   ],
   "source": [
    "M = pageRankWithDamping(X)"
   ]
  },
  {
   "cell_type": "code",
   "execution_count": 39,
   "metadata": {},
   "outputs": [
    {
     "data": {
      "text/plain": [
       "true"
      ]
     },
     "execution_count": 39,
     "metadata": {},
     "output_type": "execute_result"
    }
   ],
   "source": [
    "#Confirm the columns of M are eigenvectors with eigenvalue 1 of S\n",
    "#S is the P_{\\beta} pos. markov matrix without taking it to a high power\n",
    "\n",
    "B = ones(size(X)) * 1/size(X)[1]\n",
    "S = ((1 - 0.15) * X + 0.15 * B)\n",
    "\n",
    "isapprox(S * M[:, 1], M[:, 1])"
   ]
  },
  {
   "cell_type": "code",
   "execution_count": 25,
   "metadata": {},
   "outputs": [
    {
     "data": {
      "text/plain": [
       "6×1 Array{Float64,2}:\n",
       " 1.0\n",
       " 4.0\n",
       " 6.0\n",
       " 5.0\n",
       " 2.0\n",
       " 3.0"
      ]
     },
     "execution_count": 25,
     "metadata": {},
     "output_type": "execute_result"
    }
   ],
   "source": [
    "result(websites, M)"
   ]
  },
  {
   "cell_type": "markdown",
   "metadata": {},
   "source": [
    "## Disconnected Graph"
   ]
  },
  {
   "cell_type": "code",
   "execution_count": 40,
   "metadata": {},
   "outputs": [
    {
     "name": "stdout",
     "output_type": "stream",
     "text": [
      "google.com's links: [\"youtube.com\", \"gmail.com\", \"zoom.com\"]\n",
      "diderot.com's links: [\"discord.com\"]\n",
      "discord.com's links: [\"diderot.com\"]\n",
      "youtube.com's links: [\"gmail.com\", \"google.com\"]\n",
      "gmail.com's links: [\"google.com\", \"zoom.com\"]\n",
      "zoom.com's links: [\"youtube.com\", \"gmail.com\"]\n",
      "\n"
     ]
    }
   ],
   "source": [
    "websitesDisjoint = [\"google.com\", \"diderot.com\", \"discord.com\", \"youtube.com\", \"gmail.com\", \"zoom.com\"]\n",
    "\n",
    "websiteLinksDisjoint= Dict(1=>[\"youtube.com\", \"gmail.com\", \"zoom.com\"],  #google.com\n",
    "                   2=>[\"discord.com\"],  #diderot.com\n",
    "                   3=>[\"diderot.com\"],  #discord.com\n",
    "                   4=>[\"gmail.com\", \"google.com\"], #youtube.com\n",
    "                   5=>[\"google.com\", \"zoom.com\"], #gmail.com\n",
    "                   6=>[\"youtube.com\", \"gmail.com\"]) #zoom.com \n",
    "\n",
    "# dicts may be looped through using the keys function:\n",
    "for k in sort(collect(keys(websiteLinksDisjoint)))\n",
    "    print(websitesDisjoint[k], \"'s links: \", websiteLinksDisjoint[k], \"\\n\")\n",
    "end\n",
    "println()"
   ]
  },
  {
   "cell_type": "code",
   "execution_count": 41,
   "metadata": {},
   "outputs": [
    {
     "data": {
      "text/plain": [
       "6×6 Array{Float64,2}:\n",
       " 0.0       0.0  0.0  0.5  0.5  0.0\n",
       " 0.0       0.0  1.0  0.0  0.0  0.0\n",
       " 0.0       1.0  0.0  0.0  0.0  0.0\n",
       " 0.333333  0.0  0.0  0.0  0.0  0.5\n",
       " 0.333333  0.0  0.0  0.5  0.0  0.5\n",
       " 0.333333  0.0  0.0  0.0  0.5  0.0"
      ]
     },
     "execution_count": 41,
     "metadata": {},
     "output_type": "execute_result"
    }
   ],
   "source": [
    "Xprime = generateMarkovMatFixed(websitesDisjoint, websiteLinksDisjoint)"
   ]
  },
  {
   "cell_type": "code",
   "execution_count": 42,
   "metadata": {},
   "outputs": [
    {
     "data": {
      "text/plain": [
       "6×6 Array{Float64,2}:\n",
       " 0.169318  0.169318  0.169318  0.169318  0.169318  0.169318\n",
       " 0.166667  0.166667  0.166667  0.166667  0.166667  0.166667\n",
       " 0.166667  0.166667  0.166667  0.166667  0.166667  0.166667\n",
       " 0.140029  0.140029  0.140029  0.140029  0.140029  0.140029\n",
       " 0.199542  0.199542  0.199542  0.199542  0.199542  0.199542\n",
       " 0.157778  0.157778  0.157778  0.157778  0.157778  0.157778"
      ]
     },
     "execution_count": 42,
     "metadata": {},
     "output_type": "execute_result"
    }
   ],
   "source": [
    "Mprime = pageRankWithDamping(Xprime)"
   ]
  },
  {
   "cell_type": "code",
   "execution_count": 46,
   "metadata": {},
   "outputs": [
    {
     "data": {
      "text/plain": [
       "true"
      ]
     },
     "execution_count": 46,
     "metadata": {},
     "output_type": "execute_result"
    }
   ],
   "source": [
    "#Confirm the columns of Mprime are eigenvectors with eigenvalue 1 of Sprime\n",
    "#Sprime is the P_{\\beta} pos. markov matrix without taking it to a high power\n",
    "\n",
    "Bprime = ones(size(Xprime)) * 1/size(Xprime)[1]\n",
    "Sprime = ((1 - 0.15) * Xprime + 0.15 * Bprime)\n",
    "\n",
    "isapprox(Sprime * Mprime[:, 1], Mprime[:, 1], atol=1e-5)"
   ]
  },
  {
   "cell_type": "code",
   "execution_count": 46,
   "metadata": {},
   "outputs": [
    {
     "data": {
      "text/plain": [
       "6×1 Array{Float64,2}:\n",
       " 2.0\n",
       " 4.0\n",
       " 3.0\n",
       " 6.0\n",
       " 1.0\n",
       " 5.0"
      ]
     },
     "execution_count": 46,
     "metadata": {},
     "output_type": "execute_result"
    }
   ],
   "source": [
    "result(websitesDisjoint, Mprime)"
   ]
  },
  {
   "cell_type": "markdown",
   "metadata": {},
   "source": [
    "## Real Dataset Example"
   ]
  },
  {
   "cell_type": "code",
   "execution_count": 24,
   "metadata": {},
   "outputs": [
    {
     "data": {
      "text/html": [
       "<table class=\"data-frame\"><thead><tr><th></th><th>id1</th><th>id2</th></tr><tr><th></th><th>Int64</th><th>Int64</th></tr></thead><tbody><p>217,073 rows × 2 columns</p><tr><th>1</th><td>3475</td><td>2849</td></tr><tr><th>2</th><td>3475</td><td>3106</td></tr><tr><th>3</th><td>3475</td><td>808</td></tr><tr><th>4</th><td>3475</td><td>4555</td></tr><tr><th>5</th><td>3475</td><td>3563</td></tr><tr><th>6</th><td>3475</td><td>1527</td></tr><tr><th>7</th><td>3475</td><td>3327</td></tr><tr><th>8</th><td>402</td><td>4066</td></tr><tr><th>9</th><td>402</td><td>3908</td></tr><tr><th>10</th><td>402</td><td>2820</td></tr><tr><th>11</th><td>402</td><td>4903</td></tr><tr><th>12</th><td>402</td><td>715</td></tr><tr><th>13</th><td>402</td><td>5112</td></tr><tr><th>14</th><td>817</td><td>3563</td></tr><tr><th>15</th><td>817</td><td>4855</td></tr><tr><th>16</th><td>5057</td><td>4481</td></tr><tr><th>17</th><td>5057</td><td>3975</td></tr><tr><th>18</th><td>5057</td><td>2408</td></tr><tr><th>19</th><td>5057</td><td>2539</td></tr><tr><th>20</th><td>5057</td><td>4236</td></tr><tr><th>21</th><td>5057</td><td>3372</td></tr><tr><th>22</th><td>5057</td><td>4303</td></tr><tr><th>23</th><td>5057</td><td>4658</td></tr><tr><th>24</th><td>5057</td><td>3829</td></tr><tr><th>25</th><td>5057</td><td>5078</td></tr><tr><th>26</th><td>5057</td><td>313</td></tr><tr><th>27</th><td>5057</td><td>4410</td></tr><tr><th>28</th><td>777</td><td>3609</td></tr><tr><th>29</th><td>777</td><td>5122</td></tr><tr><th>30</th><td>777</td><td>4650</td></tr><tr><th>&vellip;</th><td>&vellip;</td><td>&vellip;</td></tr></tbody></table>"
      ],
      "text/latex": [
       "\\begin{tabular}{r|cc}\n",
       "\t& id1 & id2\\\\\n",
       "\t\\hline\n",
       "\t& Int64 & Int64\\\\\n",
       "\t\\hline\n",
       "\t1 & 3475 & 2849 \\\\\n",
       "\t2 & 3475 & 3106 \\\\\n",
       "\t3 & 3475 & 808 \\\\\n",
       "\t4 & 3475 & 4555 \\\\\n",
       "\t5 & 3475 & 3563 \\\\\n",
       "\t6 & 3475 & 1527 \\\\\n",
       "\t7 & 3475 & 3327 \\\\\n",
       "\t8 & 402 & 4066 \\\\\n",
       "\t9 & 402 & 3908 \\\\\n",
       "\t10 & 402 & 2820 \\\\\n",
       "\t11 & 402 & 4903 \\\\\n",
       "\t12 & 402 & 715 \\\\\n",
       "\t13 & 402 & 5112 \\\\\n",
       "\t14 & 817 & 3563 \\\\\n",
       "\t15 & 817 & 4855 \\\\\n",
       "\t16 & 5057 & 4481 \\\\\n",
       "\t17 & 5057 & 3975 \\\\\n",
       "\t18 & 5057 & 2408 \\\\\n",
       "\t19 & 5057 & 2539 \\\\\n",
       "\t20 & 5057 & 4236 \\\\\n",
       "\t21 & 5057 & 3372 \\\\\n",
       "\t22 & 5057 & 4303 \\\\\n",
       "\t23 & 5057 & 4658 \\\\\n",
       "\t24 & 5057 & 3829 \\\\\n",
       "\t25 & 5057 & 5078 \\\\\n",
       "\t26 & 5057 & 313 \\\\\n",
       "\t27 & 5057 & 4410 \\\\\n",
       "\t28 & 777 & 3609 \\\\\n",
       "\t29 & 777 & 5122 \\\\\n",
       "\t30 & 777 & 4650 \\\\\n",
       "\t$\\dots$ & $\\dots$ & $\\dots$ \\\\\n",
       "\\end{tabular}\n"
      ],
      "text/plain": [
       "\u001b[1m217073×2 DataFrame\u001b[0m\n",
       "\u001b[1m    Row \u001b[0m│\u001b[1m id1   \u001b[0m\u001b[1m id2   \u001b[0m\n",
       "\u001b[1m        \u001b[0m│\u001b[90m Int64 \u001b[0m\u001b[90m Int64 \u001b[0m\n",
       "────────┼──────────────\n",
       "      1 │  3475   2849\n",
       "      2 │  3475   3106\n",
       "      3 │  3475    808\n",
       "      4 │  3475   4555\n",
       "      5 │  3475   3563\n",
       "      6 │  3475   1527\n",
       "      7 │  3475   3327\n",
       "      8 │   402   4066\n",
       "      9 │   402   3908\n",
       "     10 │   402   2820\n",
       "     11 │   402   4903\n",
       "   ⋮    │   ⋮      ⋮\n",
       " 217064 │  3732   3828\n",
       " 217065 │  3732   4855\n",
       " 217066 │  3247   1600\n",
       " 217067 │  3247   2145\n",
       " 217068 │  3247   3108\n",
       " 217069 │  3247   4007\n",
       " 217070 │  3247   5067\n",
       " 217071 │  3247   4785\n",
       " 217072 │  3247   5080\n",
       " 217073 │  3247   2331\n",
       "\u001b[31m    217052 rows omitted\u001b[0m"
      ]
     },
     "execution_count": 24,
     "metadata": {},
     "output_type": "execute_result"
    }
   ],
   "source": [
    "#musae_squirrel_edges.csv\n",
    "#dataset of page-page networks on specific topics (this dataset is on squirrels)\n",
    "#Has 5201 nodes (or webpages) and 198,493 edges (undirected links between pages)\n",
    "#pages indexed from 0, so max page index is 5200\n",
    "\n",
    "DataFrame(load(\"musae_squirrel_edges.csv\"))"
   ]
  },
  {
   "cell_type": "code",
   "execution_count": 7,
   "metadata": {},
   "outputs": [
    {
     "data": {
      "text/plain": [
       "CSVGenerateMarkov (generic function with 1 method)"
      ]
     },
     "execution_count": 7,
     "metadata": {},
     "output_type": "execute_result"
    }
   ],
   "source": [
    "function countNonZero(arr)\n",
    "    count = 0\n",
    "    for elem in arr\n",
    "        if(elem == 1)\n",
    "            count = count + 1\n",
    "        end\n",
    "    end\n",
    "    return count\n",
    "end\n",
    "        \n",
    "function CSVGenerateMarkov(text, dim)\n",
    "    df = DataFrame(load(text))\n",
    "    m = zeros((dim, dim))\n",
    "    for row in eachrow(df)\n",
    "        m[CartesianIndex.(row.id2 + 1, row.id1 + 1)] = 1\n",
    "        m[CartesianIndex.(row.id1 + 1, row.id2 + 1)] = 1\n",
    "    end\n",
    "    for i in 1:(dim)\n",
    "        nums = countNonZero(m[:, i])\n",
    "        if(nums != 0)\n",
    "            m[:, i] = m[:, i] / nums\n",
    "        end\n",
    "    end\n",
    "    return m                 \n",
    "end"
   ]
  },
  {
   "cell_type": "code",
   "execution_count": 8,
   "metadata": {},
   "outputs": [
    {
     "data": {
      "text/plain": [
       "5201×5201 Array{Float64,2}:\n",
       " 0.0         0.0  0.0        0.0         0.0  …  0.0       0.0        0.0\n",
       " 0.0         0.0  0.0        0.0         0.0     0.0       0.0        0.0\n",
       " 0.0         0.0  0.0        0.0         0.0     0.0       0.0        0.0\n",
       " 0.0         0.0  0.0        0.0         0.0     0.0       0.0        0.0\n",
       " 0.0         0.0  0.0        0.0         0.0     0.0       0.0        0.0\n",
       " 0.0         0.0  0.0        0.0         0.0  …  0.0       0.0        0.0\n",
       " 0.0         0.0  0.0        0.0         0.0     0.0       0.0        0.0\n",
       " 0.0         0.0  0.0        0.0         0.0     0.0       0.0        0.0\n",
       " 0.0         0.0  0.0        0.0         0.0     0.0       0.0        0.0\n",
       " 0.0         0.0  0.0        0.0         0.0     0.0       0.0        0.0\n",
       " 0.0         0.0  0.0        0.0         0.0  …  0.0       0.0        0.0\n",
       " 0.0         0.0  0.0        0.0         0.0     0.0       0.0        0.0\n",
       " 0.0         0.0  0.0        0.0         0.0     0.0       0.0        0.0\n",
       " ⋮                                            ⋱                       ⋮\n",
       " 0.00649351  0.0  0.0        0.00666667  0.0     0.037037  0.0        0.0\n",
       " 0.0         0.0  0.0        0.0         0.0  …  0.0       0.0        0.0\n",
       " 0.0         0.0  0.0        0.0         0.0     0.0       0.0        0.0\n",
       " 0.0         0.0  0.0        0.0         0.0     0.0       0.0        0.0\n",
       " 0.00649351  0.0  0.0        0.00666667  0.0     0.0       0.0243902  0.0\n",
       " 0.0         0.0  0.0        0.0         0.0     0.0       0.0        0.0\n",
       " 0.0         0.0  0.0        0.0         0.0  …  0.0       0.0        0.0\n",
       " 0.00649351  0.0  0.0769231  0.00666667  0.0     0.037037  0.0        0.0\n",
       " 0.0         0.0  0.0        0.0         0.0     0.0       0.0        0.0\n",
       " 0.0         0.0  0.0        0.0         0.0     0.0       0.0        0.0\n",
       " 0.0         0.0  0.0        0.0         0.0     0.0       0.0        0.0\n",
       " 0.0         0.0  0.0        0.0         0.0  …  0.0       0.0        0.0"
      ]
     },
     "execution_count": 8,
     "metadata": {},
     "output_type": "execute_result"
    }
   ],
   "source": [
    "Xsquirrel = CSVGenerateMarkov(\"musae_squirrel_edges.csv\", 5201)"
   ]
  },
  {
   "cell_type": "code",
   "execution_count": 9,
   "metadata": {},
   "outputs": [
    {
     "data": {
      "text/plain": [
       "newPageRankWithDamping (generic function with 1 method)"
      ]
     },
     "execution_count": 9,
     "metadata": {},
     "output_type": "execute_result"
    }
   ],
   "source": [
    "function efficientPageRankWithDamping(matrix, power = 50)\n",
    "    if(power == 0)\n",
    "        return ones((size(matrix)[1], 1)) * 1/size(matrix)[1]\n",
    "    end\n",
    "    p = 0.15\n",
    "    B = ones(size(matrix)) * 1/size(matrix)[1]\n",
    "    starting = ones((size(matrix)[1], 1)) * 1/size(matrix)[1]\n",
    "    return (1 - p) * matrix * efficientPageRankWithDamping(matrix, power - 1) + p * starting\n",
    "end\n",
    "function newPageRankWithDamping(matrix)\n",
    "    p = 0.15\n",
    "    B = ones(size(matrix)) * 1/size(matrix)[1]\n",
    "    starting = ones((size(matrix)[1], 1)) * 1/size(matrix)[1]\n",
    "    return ((1 - p) * matrix + p * B)^50 * starting\n",
    "end"
   ]
  },
  {
   "cell_type": "code",
   "execution_count": 10,
   "metadata": {},
   "outputs": [
    {
     "name": "stdout",
     "output_type": "stream",
     "text": [
      " 14.003652 seconds (3.61 M allocations: 40.489 GiB, 21.74% gc time)\n"
     ]
    },
    {
     "data": {
      "text/plain": [
       "5201×1 Array{Float64,2}:\n",
       " 0.00024764341635520143\n",
       " 5.883654437119404e-5\n",
       " 4.7634285996364285e-5\n",
       " 0.0002175872621968898\n",
       " 6.446739511168494e-5\n",
       " 5.502522689030297e-5\n",
       " 5.29844303208086e-5\n",
       " 0.00018087817983672888\n",
       " 4.438339815942886e-5\n",
       " 6.903322853840814e-5\n",
       " 0.000178148819967327\n",
       " 6.476298196547737e-5\n",
       " 9.122145487608214e-5\n",
       " ⋮\n",
       " 0.0016080909904889744\n",
       " 0.0002211667874591535\n",
       " 0.00013855744053936005\n",
       " 5.70002440104511e-5\n",
       " 0.0015538421934595196\n",
       " 0.002328658664354606\n",
       " 6.231179981845357e-5\n",
       " 0.0016028765469088397\n",
       " 0.00031035954421267304\n",
       " 8.840909946418807e-5\n",
       " 0.00013517026116400738\n",
       " 0.00014034259080621187"
      ]
     },
     "execution_count": 10,
     "metadata": {},
     "output_type": "execute_result"
    }
   ],
   "source": [
    "@time fastM = efficientPageRankWithDamping(Xsquirrel)"
   ]
  },
  {
   "cell_type": "code",
   "execution_count": 11,
   "metadata": {},
   "outputs": [
    {
     "name": "stdout",
     "output_type": "stream",
     "text": [
      " 39.651637 seconds (1.00 M allocations: 2.669 GiB, 0.31% gc time)\n"
     ]
    },
    {
     "data": {
      "text/plain": [
       "5201×1 Array{Float64,2}:\n",
       " 0.00024764341635520143\n",
       " 5.8836544371193824e-5\n",
       " 4.763428599636419e-5\n",
       " 0.00021758726219688987\n",
       " 6.446739511168476e-5\n",
       " 5.502522689030285e-5\n",
       " 5.298443032080849e-5\n",
       " 0.00018087817983672896\n",
       " 4.438339815942876e-5\n",
       " 6.903322853840803e-5\n",
       " 0.00017814881996732707\n",
       " 6.476298196547715e-5\n",
       " 9.122145487608195e-5\n",
       " ⋮\n",
       " 0.0016080909904889742\n",
       " 0.0002211667874591536\n",
       " 0.0001385574405393595\n",
       " 5.7000244010450954e-5\n",
       " 0.0015538421934595192\n",
       " 0.002328658664354599\n",
       " 6.231179981845338e-5\n",
       " 0.0016028765469088399\n",
       " 0.00031035954421267315\n",
       " 8.840909946418789e-5\n",
       " 0.00013517026116400703\n",
       " 0.00014034259080621133"
      ]
     },
     "execution_count": 11,
     "metadata": {},
     "output_type": "execute_result"
    }
   ],
   "source": [
    "@time slowM = newPageRankWithDamping(Xsquirrel)"
   ]
  },
  {
   "cell_type": "code",
   "execution_count": 12,
   "metadata": {},
   "outputs": [
    {
     "data": {
      "text/plain": [
       "true"
      ]
     },
     "execution_count": 12,
     "metadata": {},
     "output_type": "execute_result"
    }
   ],
   "source": [
    "#both stationary distribution vectors are the same\n",
    "isapprox(slowM, fastM)"
   ]
  },
  {
   "cell_type": "code",
   "execution_count": 47,
   "metadata": {},
   "outputs": [
    {
     "data": {
      "text/plain": [
       "(0.0051744252297644235, CartesianIndex(4347, 1))"
      ]
     },
     "execution_count": 47,
     "metadata": {},
     "output_type": "execute_result"
    }
   ],
   "source": [
    "findmax(fastM)"
   ]
  },
  {
   "cell_type": "code",
   "execution_count": 15,
   "metadata": {},
   "outputs": [
    {
     "data": {
      "text/plain": [
       "findMostIncoming (generic function with 1 method)"
      ]
     },
     "execution_count": 15,
     "metadata": {},
     "output_type": "execute_result"
    }
   ],
   "source": [
    "function findMostIncoming(text, dim)\n",
    "    indCount = zeros((dim + 1, 1))\n",
    "    df = DataFrame(load(text))\n",
    "    for row in eachrow(df)\n",
    "        indCount[row.id1 + 1] += 1\n",
    "        indCount[row.id2 + 1] += 1\n",
    "    end\n",
    "    return indCount  \n",
    "end"
   ]
  },
  {
   "cell_type": "code",
   "execution_count": 16,
   "metadata": {},
   "outputs": [
    {
     "data": {
      "text/plain": [
       "5202×1 Array{Float64,2}:\n",
       "  154.0\n",
       "    6.0\n",
       "   14.0\n",
       "  150.0\n",
       "    5.0\n",
       "   15.0\n",
       "   12.0\n",
       "  117.0\n",
       "    1.0\n",
       "   21.0\n",
       "  115.0\n",
       "    3.0\n",
       "   31.0\n",
       "    ⋮\n",
       "  154.0\n",
       "   21.0\n",
       "   17.0\n",
       " 1120.0\n",
       "  198.0\n",
       "   10.0\n",
       " 1171.0\n",
       "  240.0\n",
       "   29.0\n",
       "   45.0\n",
       "    7.0\n",
       "    0.0"
      ]
     },
     "execution_count": 16,
     "metadata": {},
     "output_type": "execute_result"
    }
   ],
   "source": [
    "incomeNum = findMostIncoming(\"musae_squirrel_edges.csv\", 5201)"
   ]
  },
  {
   "cell_type": "code",
   "execution_count": 18,
   "metadata": {},
   "outputs": [
    {
     "data": {
      "text/plain": [
       "(2087.0, CartesianIndex(4347, 1))"
      ]
     },
     "execution_count": 18,
     "metadata": {},
     "output_type": "execute_result"
    }
   ],
   "source": [
    "findmax(incomeNum)"
   ]
  },
  {
   "cell_type": "markdown",
   "metadata": {},
   "source": [
    "## Additional Dataset to show difference in efficiency"
   ]
  },
  {
   "cell_type": "code",
   "execution_count": 42,
   "metadata": {},
   "outputs": [
    {
     "data": {
      "text/plain": [
       "11631×11631 Array{Float64,2}:\n",
       " 0.0  0.0  0.0  0.0        0.0  0.0  …  0.0  0.0          0.0        0.0\n",
       " 0.0  0.0  0.0  0.0        0.0  0.0     0.0  0.0          0.0        0.0\n",
       " 0.0  0.0  0.0  0.0        0.0  0.0     0.0  0.0          0.0        0.0\n",
       " 0.0  0.0  0.0  0.0        0.0  0.0     0.0  0.000636943  0.0        0.0\n",
       " 0.0  0.0  0.0  0.0        0.0  0.0     0.0  0.0          0.0        0.0\n",
       " 0.0  0.0  0.0  0.0        0.0  0.0  …  0.0  0.0          0.0        0.0\n",
       " 0.0  0.0  0.0  0.0        0.0  0.0     0.0  0.000636943  0.0        0.0\n",
       " 0.0  0.0  0.0  0.0        0.0  0.0     0.0  0.000636943  0.0        0.0\n",
       " 0.0  0.0  0.0  0.0        0.0  0.0     0.0  0.0          0.0        0.0\n",
       " 0.0  0.0  0.0  0.0        0.0  0.0     0.0  0.0          0.0        0.0\n",
       " 0.0  0.0  0.0  0.0        0.0  0.0  …  0.0  0.0          0.0        0.0\n",
       " 0.0  0.0  0.0  0.0        0.0  0.0     0.0  0.0          0.0        0.0\n",
       " 0.0  0.0  0.0  0.0        0.0  0.0     0.0  0.0          0.0        0.0\n",
       " ⋮                              ⋮    ⋱                               ⋮\n",
       " 0.0  0.0  0.0  0.0        0.0  0.0     0.0  0.0          0.0        0.0\n",
       " 0.0  0.0  0.0  0.0        0.0  0.0  …  0.0  0.0          0.0        0.0\n",
       " 0.0  0.0  0.0  0.0        0.0  0.0     0.0  0.0          0.0        0.0\n",
       " 0.0  0.0  0.0  0.0        0.0  0.0     0.0  0.0          0.0        0.0\n",
       " 0.0  0.0  0.0  0.0        0.0  0.0     0.0  0.0          0.0        0.0\n",
       " 0.0  0.0  0.0  0.0        0.0  0.0     0.0  0.0          0.0        0.0\n",
       " 0.0  0.0  0.0  0.0        0.0  0.0  …  0.0  0.0          0.0        0.0\n",
       " 0.0  0.0  0.0  0.0        0.0  0.0     0.0  0.0          0.0        0.0\n",
       " 0.0  0.0  0.0  0.0        0.0  0.0     0.0  0.0          0.0        0.0\n",
       " 0.0  0.0  0.0  0.0333333  0.0  0.0     0.0  0.0          0.0        0.0\n",
       " 0.0  0.0  0.0  0.0        0.0  0.0     0.0  0.0          0.0217391  0.0\n",
       " 0.0  0.0  0.0  0.0        0.0  0.0  …  0.0  0.0          0.0        0.0"
      ]
     },
     "execution_count": 42,
     "metadata": {},
     "output_type": "execute_result"
    }
   ],
   "source": [
    "#same as squirrel dataset, except has 11,631 nodes and 170,918 edges\n",
    "Xcrocodile = CSVGenerateMarkov(\"musae_crocodile_edges.csv\", 11631)"
   ]
  },
  {
   "cell_type": "code",
   "execution_count": 63,
   "metadata": {},
   "outputs": [
    {
     "name": "stdout",
     "output_type": "stream",
     "text": [
      " 62.076384 seconds (1.01 k allocations: 201.609 GiB, 24.20% gc time)\n"
     ]
    },
    {
     "data": {
      "text/plain": [
       "11631×1 Array{Float64,2}:\n",
       " 8.458833903287631e-5\n",
       " 1.6652475832516783e-5\n",
       " 0.00019145935419371507\n",
       " 6.309512935357827e-5\n",
       " 2.6358753809455273e-5\n",
       " 1.7869280451223095e-5\n",
       " 6.309512935357827e-5\n",
       " 6.309512935357827e-5\n",
       " 4.3585351474861785e-5\n",
       " 1.868684885796903e-5\n",
       " 0.00010031813437503532\n",
       " 6.621021877187009e-5\n",
       " 0.0001206039472007654\n",
       " ⋮\n",
       " 0.0001108899656372685\n",
       " 8.733521063072639e-5\n",
       " 7.951975571943295e-5\n",
       " 5.190180604517787e-5\n",
       " 0.0008983087876972979\n",
       " 0.0006439430196361107\n",
       " 0.00013716483086460707\n",
       " 4.8871367833648306e-5\n",
       " 0.0005622327402725814\n",
       " 0.0029585873984982487\n",
       " 0.0005973759992581139\n",
       " 0.00016542783140467032"
      ]
     },
     "execution_count": 63,
     "metadata": {},
     "output_type": "execute_result"
    }
   ],
   "source": [
    "@time fastMCroc = efficientPageRankWithDamping(Xcrocodile)"
   ]
  },
  {
   "cell_type": "code",
   "execution_count": 50,
   "metadata": {},
   "outputs": [
    {
     "name": "stdout",
     "output_type": "stream",
     "text": [
      "443.405510 seconds (34 allocations: 13.103 GiB, 0.15% gc time)\n"
     ]
    },
    {
     "data": {
      "text/plain": [
       "11631×1 Array{Float64,2}:\n",
       " 8.458833903287514e-5\n",
       " 1.665247583251655e-5\n",
       " 0.0001914593541937125\n",
       " 6.309512935357727e-5\n",
       " 2.63587538094549e-5\n",
       " 1.7869280451222857e-5\n",
       " 6.309512935357727e-5\n",
       " 6.309512935357727e-5\n",
       " 4.358535147486121e-5\n",
       " 1.868684885796878e-5\n",
       " 0.00010031813437503455\n",
       " 6.621021877186913e-5\n",
       " 0.00012060394720076365\n",
       " ⋮\n",
       " 0.00011088996563726703\n",
       " 8.733521063072539e-5\n",
       " 7.951975571943181e-5\n",
       " 5.190180604517715e-5\n",
       " 0.0008983087876972857\n",
       " 0.0006439430196361013\n",
       " 0.0001371648308646053\n",
       " 4.8871367833647635e-5\n",
       " 0.0005622327402725732\n",
       " 0.002958587398498203\n",
       " 0.0005973759992581066\n",
       " 0.00016542783140466845"
      ]
     },
     "execution_count": 50,
     "metadata": {},
     "output_type": "execute_result"
    }
   ],
   "source": [
    "@time slowMCroc = newPageRankWithDamping(Xcrocodile)"
   ]
  }
 ],
 "metadata": {
  "kernelspec": {
   "display_name": "Julia 1.5.1",
   "language": "julia",
   "name": "julia-1.5"
  },
  "language_info": {
   "file_extension": ".jl",
   "mimetype": "application/julia",
   "name": "julia",
   "version": "1.5.1"
  }
 },
 "nbformat": 4,
 "nbformat_minor": 4
}
