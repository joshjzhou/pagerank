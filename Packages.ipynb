{
 "cells": [
  {
   "cell_type": "markdown",
   "metadata": {},
   "source": [
    "# Packages for 21-241"
   ]
  },
  {
   "cell_type": "code",
   "execution_count": 2,
   "metadata": {},
   "outputs": [],
   "source": [
    "import Pkg"
   ]
  },
  {
   "cell_type": "code",
   "execution_count": 2,
   "metadata": {},
   "outputs": [
    {
     "name": "stderr",
     "output_type": "stream",
     "text": [
      "\u001b[32m\u001b[1m   Updating\u001b[22m\u001b[39m registry at `C:\\Users\\joshz\\.julia\\registries\\General`\n",
      "\u001b[32m\u001b[1m  Resolving\u001b[22m\u001b[39m package versions...\n",
      "\u001b[32m\u001b[1m  Installed\u001b[22m\u001b[39m Zlib_jll ──────── v1.2.11+18\n",
      "\u001b[32m\u001b[1m  Installed\u001b[22m\u001b[39m OpenSpecFun_jll ─ v0.5.3+4\n",
      "\u001b[32m\u001b[1m  Installed\u001b[22m\u001b[39m FFMPEG_jll ────── v4.3.1+4\n",
      "\u001b[32m\u001b[1m  Installed\u001b[22m\u001b[39m FriBidi_jll ───── v1.0.5+6\n",
      "\u001b[32m\u001b[1m  Installed\u001b[22m\u001b[39m libvorbis_jll ─── v1.3.6+6\n",
      "\u001b[32m\u001b[1m  Installed\u001b[22m\u001b[39m Opus_jll ──────── v1.3.1+3\n",
      "\u001b[32m\u001b[1m  Installed\u001b[22m\u001b[39m libass_jll ────── v0.14.0+4\n",
      "\u001b[32m\u001b[1m  Installed\u001b[22m\u001b[39m LibVPX_jll ────── v1.9.0+1\n",
      "\u001b[32m\u001b[1m  Installed\u001b[22m\u001b[39m Bzip2_jll ─────── v1.0.6+5\n",
      "\u001b[32m\u001b[1m  Installed\u001b[22m\u001b[39m libfdk_aac_jll ── v0.1.6+4\n",
      "\u001b[32m\u001b[1m  Installed\u001b[22m\u001b[39m FreeType2_jll ─── v2.10.1+5\n",
      "\u001b[32m\u001b[1m  Installed\u001b[22m\u001b[39m LAME_jll ──────── v3.100.0+3\n",
      "\u001b[32m\u001b[1m  Installed\u001b[22m\u001b[39m x264_jll ──────── v2020.7.14+2\n",
      "\u001b[32m\u001b[1m  Installed\u001b[22m\u001b[39m ZeroMQ_jll ────── v4.3.2+5\n",
      "\u001b[32m\u001b[1m  Installed\u001b[22m\u001b[39m x265_jll ──────── v3.0.0+3\n",
      "\u001b[32m\u001b[1m  Installed\u001b[22m\u001b[39m OpenSSL_jll ───── v1.1.1+6\n",
      "\u001b[32m\u001b[1m  Installed\u001b[22m\u001b[39m Ogg_jll ───────── v1.3.4+2\n",
      "\u001b[32m\u001b[1m  Installed\u001b[22m\u001b[39m JLLWrappers ───── v1.1.3\n",
      "\u001b[32m\u001b[1m  Installed\u001b[22m\u001b[39m Artifacts ─────── v1.3.0\n",
      "\u001b[32m\u001b[1mNo Changes\u001b[22m\u001b[39m to `C:\\Users\\joshz\\.julia\\environments\\v1.5\\Project.toml`\n",
      "\u001b[32m\u001b[1mUpdating\u001b[22m\u001b[39m `C:\\Users\\joshz\\.julia\\environments\\v1.5\\Manifest.toml`\n",
      " \u001b[90m [56f22d72] \u001b[39m\u001b[92m+ Artifacts v1.3.0\u001b[39m\n",
      " \u001b[90m [6e34b625] \u001b[39m\u001b[93m↑ Bzip2_jll v1.0.6+4 ⇒ v1.0.6+5\u001b[39m\n",
      " \u001b[90m [b22a6f82] \u001b[39m\u001b[93m↑ FFMPEG_jll v4.3.1+2 ⇒ v4.3.1+4\u001b[39m\n",
      " \u001b[90m [d7e528f0] \u001b[39m\u001b[93m↑ FreeType2_jll v2.10.1+4 ⇒ v2.10.1+5\u001b[39m\n",
      " \u001b[90m [559328eb] \u001b[39m\u001b[93m↑ FriBidi_jll v1.0.5+5 ⇒ v1.0.5+6\u001b[39m\n",
      " \u001b[90m [692b3bcd] \u001b[39m\u001b[92m+ JLLWrappers v1.1.3\u001b[39m\n",
      " \u001b[90m [c1c5ebd0] \u001b[39m\u001b[93m↑ LAME_jll v3.100.0+2 ⇒ v3.100.0+3\u001b[39m\n",
      " \u001b[90m [dd192d2f] \u001b[39m\u001b[93m↑ LibVPX_jll v1.9.0+0 ⇒ v1.9.0+1\u001b[39m\n",
      " \u001b[90m [e7412a2a] \u001b[39m\u001b[93m↑ Ogg_jll v1.3.4+1 ⇒ v1.3.4+2\u001b[39m\n",
      " \u001b[90m [458c3c95] \u001b[39m\u001b[93m↑ OpenSSL_jll v1.1.1+5 ⇒ v1.1.1+6\u001b[39m\n",
      " \u001b[90m [efe28fd5] \u001b[39m\u001b[93m↑ OpenSpecFun_jll v0.5.3+3 ⇒ v0.5.3+4\u001b[39m\n",
      " \u001b[90m [91d4177d] \u001b[39m\u001b[93m↑ Opus_jll v1.3.1+2 ⇒ v1.3.1+3\u001b[39m\n",
      " \u001b[90m [8f1865be] \u001b[39m\u001b[93m↑ ZeroMQ_jll v4.3.2+4 ⇒ v4.3.2+5\u001b[39m\n",
      " \u001b[90m [83775a58] \u001b[39m\u001b[93m↑ Zlib_jll v1.2.11+16 ⇒ v1.2.11+18\u001b[39m\n",
      " \u001b[90m [0ac62f75] \u001b[39m\u001b[93m↑ libass_jll v0.14.0+3 ⇒ v0.14.0+4\u001b[39m\n",
      " \u001b[90m [f638f0a6] \u001b[39m\u001b[93m↑ libfdk_aac_jll v0.1.6+3 ⇒ v0.1.6+4\u001b[39m\n",
      " \u001b[90m [f27f6e37] \u001b[39m\u001b[93m↑ libvorbis_jll v1.3.6+5 ⇒ v1.3.6+6\u001b[39m\n",
      " \u001b[90m [1270edf5] \u001b[39m\u001b[93m↑ x264_jll v2020.7.14+1 ⇒ v2020.7.14+2\u001b[39m\n",
      " \u001b[90m [dfaa095f] \u001b[39m\u001b[93m↑ x265_jll v3.0.0+2 ⇒ v3.0.0+3\u001b[39m\n"
     ]
    }
   ],
   "source": [
    "Pkg.add(\"SymPy\")"
   ]
  },
  {
   "cell_type": "code",
   "execution_count": 3,
   "metadata": {},
   "outputs": [
    {
     "name": "stderr",
     "output_type": "stream",
     "text": [
      "\u001b[32m\u001b[1m  Resolving\u001b[22m\u001b[39m package versions...\n",
      "\u001b[32m\u001b[1mNo Changes\u001b[22m\u001b[39m to `C:\\Users\\joshz\\.julia\\environments\\v1.5\\Project.toml`\n",
      "\u001b[32m\u001b[1mNo Changes\u001b[22m\u001b[39m to `C:\\Users\\joshz\\.julia\\environments\\v1.5\\Manifest.toml`\n"
     ]
    }
   ],
   "source": [
    "Pkg.add(\"Plots\")"
   ]
  },
  {
   "cell_type": "code",
   "execution_count": 4,
   "metadata": {},
   "outputs": [
    {
     "name": "stderr",
     "output_type": "stream",
     "text": [
      "\u001b[32m\u001b[1m  Resolving\u001b[22m\u001b[39m package versions...\n",
      "\u001b[32m\u001b[1mNo Changes\u001b[22m\u001b[39m to `C:\\Users\\joshz\\.julia\\environments\\v1.5\\Project.toml`\n",
      "\u001b[32m\u001b[1mNo Changes\u001b[22m\u001b[39m to `C:\\Users\\joshz\\.julia\\environments\\v1.5\\Manifest.toml`\n"
     ]
    }
   ],
   "source": [
    "Pkg.add(\"LinearAlgebra\")"
   ]
  },
  {
   "cell_type": "code",
   "execution_count": 5,
   "metadata": {},
   "outputs": [
    {
     "name": "stderr",
     "output_type": "stream",
     "text": [
      "\u001b[32m\u001b[1m  Resolving\u001b[22m\u001b[39m package versions...\n",
      "\u001b[32m\u001b[1mNo Changes\u001b[22m\u001b[39m to `C:\\Users\\joshz\\.julia\\environments\\v1.5\\Project.toml`\n",
      "\u001b[32m\u001b[1mNo Changes\u001b[22m\u001b[39m to `C:\\Users\\joshz\\.julia\\environments\\v1.5\\Manifest.toml`\n"
     ]
    }
   ],
   "source": [
    "Pkg.add(\"Random\")"
   ]
  },
  {
   "cell_type": "code",
   "execution_count": 2,
   "metadata": {},
   "outputs": [
    {
     "name": "stderr",
     "output_type": "stream",
     "text": [
      "\u001b[32m\u001b[1m   Updating\u001b[22m\u001b[39m registry at `C:\\Users\\joshz\\.julia\\registries\\General`\n",
      "\u001b[32m\u001b[1m  Resolving\u001b[22m\u001b[39m package versions...\n",
      "\u001b[32m\u001b[1m  Installed\u001b[22m\u001b[39m SentinelArrays ───── v1.2.16\n",
      "\u001b[32m\u001b[1m  Installed\u001b[22m\u001b[39m StructTypes ──────── v1.1.0\n",
      "\u001b[32m\u001b[1m  Installed\u001b[22m\u001b[39m XML2_jll ─────────── v2.9.10+3\n",
      "\u001b[32m\u001b[1m  Installed\u001b[22m\u001b[39m Compat ───────────── v3.23.0\n",
      "\u001b[32m\u001b[1m  Installed\u001b[22m\u001b[39m EzXML ────────────── v1.1.0\n",
      "\u001b[32m\u001b[1m  Installed\u001b[22m\u001b[39m CategoricalArrays ── v0.8.3\n",
      "\u001b[32m\u001b[1m  Installed\u001b[22m\u001b[39m DataFrames ───────── v0.21.8\n",
      "\u001b[32m\u001b[1m  Installed\u001b[22m\u001b[39m ExprTools ────────── v0.1.3\n",
      "\u001b[32m\u001b[1m  Installed\u001b[22m\u001b[39m Mocking ──────────── v0.7.1\n",
      "\u001b[32m\u001b[1m  Installed\u001b[22m\u001b[39m CodecZlib ────────── v0.7.0\n",
      "\u001b[32m\u001b[1m  Installed\u001b[22m\u001b[39m FileIO ───────────── v1.4.5\n",
      "\u001b[32m\u001b[1m  Installed\u001b[22m\u001b[39m TranscodingStreams ─ v0.9.5\n",
      "\u001b[32m\u001b[1m  Installed\u001b[22m\u001b[39m TimeZones ────────── v1.5.2\n",
      "┌ Info: Replacing symlinks in tarball by their source files ...\n",
      "│ \"docs\\\\src\\\\LICENSE.md\" => \"docs\\\\src\\\\../../LICENSE.md\"\n",
      "│ \"docs\\\\src\\\\NEWS.md\" => \"docs\\\\src\\\\../../NEWS.md\"\n",
      "└ @ Pkg.PlatformEngines D:\\buildbot\\worker\\package_win64\\build\\usr\\share\\julia\\stdlib\\v1.5\\Pkg\\src\\PlatformEngines.jl:996\n",
      "┌ Warning: failed to extract archive downloaded from https://pkg.julialang.org/package/df47a6cb-8c03-5eed-afd8-b6050d6c41da/226f296cd7db3145f2d67848598fd13f8ba49d09\n",
      "└ @ Pkg.Operations D:\\buildbot\\worker\\package_win64\\build\\usr\\share\\julia\\stdlib\\v1.5\\Pkg\\src\\Operations.jl:559\n",
      "\u001b[32m\u001b[1m  Installed\u001b[22m\u001b[39m CSV ──────────────── v0.7.10\n",
      "\u001b[32m\u001b[1m  Installed\u001b[22m\u001b[39m PooledArrays ─────── v0.5.3\n",
      "\u001b[32m\u001b[1m  Installed\u001b[22m\u001b[39m InvertedIndices ──── v1.0.0\n",
      "\u001b[32m\u001b[1m  Installed\u001b[22m\u001b[39m Libiconv_jll ─────── v1.16.0+7\n",
      "┌ Info: Replacing symlinks in tarball by their source files ...\n",
      "│ \"JuliaData-RData.jl-226f296\\\\docs\\\\src\\\\LICENSE.md\" => \"JuliaData-RData.jl-226f296\\\\docs\\\\src\\\\../../LICENSE.md\"\n",
      "│ \"JuliaData-RData.jl-226f296\\\\docs\\\\src\\\\NEWS.md\" => \"JuliaData-RData.jl-226f296\\\\docs\\\\src\\\\../../NEWS.md\"\n",
      "└ @ Pkg.PlatformEngines D:\\buildbot\\worker\\package_win64\\build\\usr\\share\\julia\\stdlib\\v1.5\\Pkg\\src\\PlatformEngines.jl:996\n",
      "\u001b[32m\u001b[1m  Installed\u001b[22m\u001b[39m RData ────────────── v0.7.3\n",
      "\u001b[32m\u001b[1m  Installed\u001b[22m\u001b[39m RDatasets ────────── v0.7.3\n",
      "\u001b[32m\u001b[1mUpdating\u001b[22m\u001b[39m `C:\\Users\\joshz\\.julia\\environments\\v1.5\\Project.toml`\n",
      " \u001b[90m [ce6b1742] \u001b[39m\u001b[92m+ RDatasets v0.7.3\u001b[39m\n",
      "\u001b[32m\u001b[1mUpdating\u001b[22m\u001b[39m `C:\\Users\\joshz\\.julia\\environments\\v1.5\\Manifest.toml`\n",
      " \u001b[90m [336ed68f] \u001b[39m\u001b[92m+ CSV v0.7.10\u001b[39m\n",
      " \u001b[90m [324d7699] \u001b[39m\u001b[92m+ CategoricalArrays v0.8.3\u001b[39m\n",
      " \u001b[90m [944b1d66] \u001b[39m\u001b[92m+ CodecZlib v0.7.0\u001b[39m\n",
      " \u001b[90m [34da2185] \u001b[39m\u001b[92m+ Compat v3.23.0\u001b[39m\n",
      " \u001b[90m [a93c6f00] \u001b[39m\u001b[92m+ DataFrames v0.21.8\u001b[39m\n",
      " \u001b[90m [e2ba6199] \u001b[39m\u001b[92m+ ExprTools v0.1.3\u001b[39m\n",
      " \u001b[90m [8f5d6c58] \u001b[39m\u001b[92m+ EzXML v1.1.0\u001b[39m\n",
      " \u001b[90m [5789e2e9] \u001b[39m\u001b[92m+ FileIO v1.4.5\u001b[39m\n",
      " \u001b[90m [41ab1584] \u001b[39m\u001b[92m+ InvertedIndices v1.0.0\u001b[39m\n",
      " \u001b[90m [94ce4f54] \u001b[39m\u001b[92m+ Libiconv_jll v1.16.0+7\u001b[39m\n",
      " \u001b[90m [78c3b35d] \u001b[39m\u001b[92m+ Mocking v0.7.1\u001b[39m\n",
      " \u001b[90m [2dfb63ee] \u001b[39m\u001b[92m+ PooledArrays v0.5.3\u001b[39m\n",
      " \u001b[90m [df47a6cb] \u001b[39m\u001b[92m+ RData v0.7.3\u001b[39m\n",
      " \u001b[90m [ce6b1742] \u001b[39m\u001b[92m+ RDatasets v0.7.3\u001b[39m\n",
      " \u001b[90m [91c51154] \u001b[39m\u001b[92m+ SentinelArrays v1.2.16\u001b[39m\n",
      " \u001b[90m [856f2bd8] \u001b[39m\u001b[92m+ StructTypes v1.1.0\u001b[39m\n",
      " \u001b[90m [f269a46b] \u001b[39m\u001b[92m+ TimeZones v1.5.2\u001b[39m\n",
      " \u001b[90m [3bb67fe8] \u001b[39m\u001b[92m+ TranscodingStreams v0.9.5\u001b[39m\n",
      " \u001b[90m [02c8fc9c] \u001b[39m\u001b[92m+ XML2_jll v2.9.10+3\u001b[39m\n",
      " \u001b[90m [9fa8497b] \u001b[39m\u001b[92m+ Future\u001b[39m\n",
      " \u001b[90m [1a1011a3] \u001b[39m\u001b[92m+ SharedArrays\u001b[39m\n",
      "\u001b[32m\u001b[1m   Building\u001b[22m\u001b[39m TimeZones → `C:\\Users\\joshz\\.julia\\packages\\TimeZones\\AXlxQ\\deps\\build.log`\n"
     ]
    }
   ],
   "source": [
    "Pkg.add(\"RDatasets\")"
   ]
  },
  {
   "cell_type": "code",
   "execution_count": 3,
   "metadata": {},
   "outputs": [
    {
     "name": "stderr",
     "output_type": "stream",
     "text": [
      "\u001b[32m\u001b[1m   Updating\u001b[22m\u001b[39m registry at `C:\\Users\\joshz\\.julia\\registries\\General`\n",
      "\u001b[32m\u001b[1m  Resolving\u001b[22m\u001b[39m package versions...\n",
      "\u001b[32m\u001b[1m  Installed\u001b[22m\u001b[39m JSON ─ v0.21.1\n",
      "\u001b[32m\u001b[1mUpdating\u001b[22m\u001b[39m `C:\\Users\\joshz\\.julia\\environments\\v1.5\\Project.toml`\n",
      " \u001b[90m [682c06a0] \u001b[39m\u001b[92m+ JSON v0.21.1\u001b[39m\n",
      "\u001b[32m\u001b[1mUpdating\u001b[22m\u001b[39m `C:\\Users\\joshz\\.julia\\environments\\v1.5\\Manifest.toml`\n",
      " \u001b[90m [682c06a0] \u001b[39m\u001b[93m↑ JSON v0.21.0 ⇒ v0.21.1\u001b[39m\n"
     ]
    }
   ],
   "source": [
    "Pkg.add(\"JSON\")"
   ]
  },
  {
   "cell_type": "code",
   "execution_count": 5,
   "metadata": {},
   "outputs": [
    {
     "name": "stderr",
     "output_type": "stream",
     "text": [
      "\u001b[32m\u001b[1m  Resolving\u001b[22m\u001b[39m package versions...\n",
      "\u001b[32m\u001b[1m  Installed\u001b[22m\u001b[39m WeakRefStrings ─────────────── v0.6.2\n",
      "\u001b[32m\u001b[1m  Installed\u001b[22m\u001b[39m CSVFiles ───────────────────── v1.0.0\n",
      "\u001b[32m\u001b[1m  Installed\u001b[22m\u001b[39m Adapt ──────────────────────── v2.3.0\n",
      "\u001b[32m\u001b[1m  Installed\u001b[22m\u001b[39m OrderedCollections ─────────── v1.3.2\n",
      "\u001b[32m\u001b[1m  Installed\u001b[22m\u001b[39m PlotUtils ──────────────────── v1.0.8\n",
      "\u001b[32m\u001b[1m  Installed\u001b[22m\u001b[39m Intervals ──────────────────── v1.5.0\n",
      "\u001b[32m\u001b[1m  Installed\u001b[22m\u001b[39m Contour ────────────────────── v0.5.7\n",
      "\u001b[32m\u001b[1m  Installed\u001b[22m\u001b[39m RecipesBase ────────────────── v1.1.1\n",
      "\u001b[32m\u001b[1m  Installed\u001b[22m\u001b[39m Grisu ──────────────────────── v1.0.0\n",
      "\u001b[32m\u001b[1m  Installed\u001b[22m\u001b[39m MbedTLS ────────────────────── v1.0.3\n",
      "\u001b[32m\u001b[1m  Installed\u001b[22m\u001b[39m Polynomials ────────────────── v1.1.13\n",
      "\u001b[32m\u001b[1m  Installed\u001b[22m\u001b[39m DataValues ─────────────────── v0.4.13\n",
      "\u001b[32m\u001b[1m  Installed\u001b[22m\u001b[39m DataStructures ─────────────── v0.18.8\n",
      "\u001b[32m\u001b[1m  Installed\u001b[22m\u001b[39m HTTP ───────────────────────── v0.8.19\n",
      "\u001b[32m\u001b[1m  Installed\u001b[22m\u001b[39m DataFrames ─────────────────── v0.22.1\n",
      "\u001b[32m\u001b[1m  Installed\u001b[22m\u001b[39m Tables ─────────────────────── v1.2.1\n",
      "\u001b[32m\u001b[1m  Installed\u001b[22m\u001b[39m RecipesPipeline ────────────── v0.1.13\n",
      "\u001b[32m\u001b[1m  Installed\u001b[22m\u001b[39m Nullables ──────────────────── v1.0.0\n",
      "\u001b[32m\u001b[1m  Installed\u001b[22m\u001b[39m StaticArrays ───────────────── v0.12.5\n",
      "\u001b[32m\u001b[1m  Installed\u001b[22m\u001b[39m NaNMath ────────────────────── v0.3.5\n",
      "\u001b[32m\u001b[1m  Installed\u001b[22m\u001b[39m ColorTypes ─────────────────── v0.10.9\n",
      "\u001b[32m\u001b[1m  Installed\u001b[22m\u001b[39m Conda ──────────────────────── v1.5.0\n",
      "\u001b[32m\u001b[1m  Installed\u001b[22m\u001b[39m Quadmath ───────────────────── v0.5.4\n",
      "\u001b[32m\u001b[1m  Installed\u001b[22m\u001b[39m TextParse ──────────────────── v1.0.1\n",
      "\u001b[32m\u001b[1m  Installed\u001b[22m\u001b[39m MbedTLS_jll ────────────────── v2.16.8+1\n",
      "\u001b[32m\u001b[1m  Installed\u001b[22m\u001b[39m StatsBase ──────────────────── v0.33.2\n",
      "\u001b[32m\u001b[1m  Installed\u001b[22m\u001b[39m TableTraitsUtils ───────────── v1.0.1\n",
      "\u001b[32m\u001b[1m  Installed\u001b[22m\u001b[39m CompilerSupportLibraries_jll ─ v0.3.4+0\n",
      "\u001b[32m\u001b[1m  Installed\u001b[22m\u001b[39m MacroTools ─────────────────── v0.5.6\n",
      "\u001b[32m\u001b[1m  Installed\u001b[22m\u001b[39m CodecZlib ──────────────────── v0.6.0\n",
      "\u001b[32m\u001b[1m  Installed\u001b[22m\u001b[39m GenericSVD ─────────────────── v0.3.0\n",
      "\u001b[32m\u001b[1m  Installed\u001b[22m\u001b[39m PyCall ─────────────────────── v1.92.1\n",
      "\u001b[32m\u001b[1m  Installed\u001b[22m\u001b[39m GenericSchur ───────────────── v0.4.0\n",
      "\u001b[32m\u001b[1m  Installed\u001b[22m\u001b[39m Crayons ────────────────────── v4.0.4\n",
      "\u001b[32m\u001b[1m  Installed\u001b[22m\u001b[39m GeometryTypes ──────────────── v0.8.4\n",
      "\u001b[32m\u001b[1m  Installed\u001b[22m\u001b[39m DataAPI ────────────────────── v1.4.0\n",
      "\u001b[32m\u001b[1m  Installed\u001b[22m\u001b[39m Formatting ─────────────────── v0.4.2\n",
      "\u001b[32m\u001b[1m  Installed\u001b[22m\u001b[39m Parsers ────────────────────── v1.0.14\n",
      "\u001b[32m\u001b[1m  Installed\u001b[22m\u001b[39m PrettyTables ───────────────── v0.10.1\n",
      "\u001b[32m\u001b[1m  Installed\u001b[22m\u001b[39m BinaryProvider ─────────────── v0.5.10\n",
      "\u001b[32m\u001b[1m  Installed\u001b[22m\u001b[39m ColorSchemes ───────────────── v3.10.1\n",
      "\u001b[32m\u001b[1m  Installed\u001b[22m\u001b[39m DoubleFloats ───────────────── v1.1.15\n",
      "\u001b[32m\u001b[1m  Installed\u001b[22m\u001b[39m OffsetArrays ───────────────── v1.4.1\n",
      "\u001b[32m\u001b[1m  Installed\u001b[22m\u001b[39m IterableTables ─────────────── v1.0.0\n",
      "\u001b[32m\u001b[1m  Installed\u001b[22m\u001b[39m Showoff ────────────────────── v0.3.2\n",
      "\u001b[32m\u001b[1m  Installed\u001b[22m\u001b[39m GenericLinearAlgebra ───────── v0.2.4\n",
      "\u001b[32m\u001b[1m  Installed\u001b[22m\u001b[39m Requires ───────────────────── v1.1.1\n",
      "\u001b[32m\u001b[1m  Installed\u001b[22m\u001b[39m TableShowUtils ─────────────── v0.2.5\n",
      "\u001b[32m\u001b[1mUpdating\u001b[22m\u001b[39m `C:\\Users\\joshz\\.julia\\environments\\v1.5\\Project.toml`\n",
      " \u001b[90m [5d742f6a] \u001b[39m\u001b[92m+ CSVFiles v1.0.0\u001b[39m\n",
      "\u001b[32m\u001b[1mUpdating\u001b[22m\u001b[39m `C:\\Users\\joshz\\.julia\\environments\\v1.5\\Manifest.toml`\n",
      " \u001b[90m [79e6a3ab] \u001b[39m\u001b[93m↑ Adapt v2.0.2 ⇒ v2.3.0\u001b[39m\n",
      " \u001b[90m [b99e7846] \u001b[39m\u001b[92m+ BinaryProvider v0.5.10\u001b[39m\n",
      " \u001b[90m [5d742f6a] \u001b[39m\u001b[92m+ CSVFiles v1.0.0\u001b[39m\n",
      " \u001b[90m [944b1d66] \u001b[39m\u001b[95m↓ CodecZlib v0.7.0 ⇒ v0.6.0\u001b[39m\n",
      " \u001b[90m [35d6a980] \u001b[39m\u001b[93m↑ ColorSchemes v3.9.0 ⇒ v3.10.1\u001b[39m\n",
      " \u001b[90m [3da002f7] \u001b[39m\u001b[93m↑ ColorTypes v0.10.8 ⇒ v0.10.9\u001b[39m\n",
      " \u001b[90m [e66e0078] \u001b[39m\u001b[93m↑ CompilerSupportLibraries_jll v0.3.3+0 ⇒ v0.3.4+0\u001b[39m\n",
      " \u001b[90m [8f4d0f93] \u001b[39m\u001b[93m↑ Conda v1.4.1 ⇒ v1.5.0\u001b[39m\n",
      " \u001b[90m [d38c429a] \u001b[39m\u001b[93m↑ Contour v0.5.4 ⇒ v0.5.7\u001b[39m\n",
      " \u001b[90m [a8cc5b0e] \u001b[39m\u001b[92m+ Crayons v4.0.4\u001b[39m\n",
      " \u001b[90m [9a962f9c] \u001b[39m\u001b[93m↑ DataAPI v1.3.0 ⇒ v1.4.0\u001b[39m\n",
      " \u001b[90m [a93c6f00] \u001b[39m\u001b[93m↑ DataFrames v0.21.8 ⇒ v0.22.1\u001b[39m\n",
      " \u001b[90m [864edb3b] \u001b[39m\u001b[93m↑ DataStructures v0.17.20 ⇒ v0.18.8\u001b[39m\n",
      " \u001b[90m [e7dc6d0d] \u001b[39m\u001b[92m+ DataValues v0.4.13\u001b[39m\n",
      " \u001b[90m [497a8b3b] \u001b[39m\u001b[92m+ DoubleFloats v1.1.15\u001b[39m\n",
      " \u001b[90m [59287772] \u001b[39m\u001b[92m+ Formatting v0.4.2\u001b[39m\n",
      " \u001b[90m [14197337] \u001b[39m\u001b[92m+ GenericLinearAlgebra v0.2.4\u001b[39m\n",
      " \u001b[90m [01680d73] \u001b[39m\u001b[92m+ GenericSVD v0.3.0\u001b[39m\n",
      " \u001b[90m [c145ed77] \u001b[39m\u001b[92m+ GenericSchur v0.4.0\u001b[39m\n",
      " \u001b[90m [4d00f742] \u001b[39m\u001b[93m↑ GeometryTypes v0.8.3 ⇒ v0.8.4\u001b[39m\n",
      " \u001b[90m [42e2da0e] \u001b[39m\u001b[92m+ Grisu v1.0.0\u001b[39m\n",
      " \u001b[90m [cd3eb016] \u001b[39m\u001b[93m↑ HTTP v0.8.17 ⇒ v0.8.19\u001b[39m\n",
      " \u001b[90m [d8418881] \u001b[39m\u001b[92m+ Intervals v1.5.0\u001b[39m\n",
      " \u001b[90m [1c8ee90f] \u001b[39m\u001b[92m+ IterableTables v1.0.0\u001b[39m\n",
      " \u001b[90m [1914dd2f] \u001b[39m\u001b[93m↑ MacroTools v0.5.5 ⇒ v0.5.6\u001b[39m\n",
      " \u001b[90m [739be429] \u001b[39m\u001b[93m↑ MbedTLS v1.0.2 ⇒ v1.0.3\u001b[39m\n",
      " \u001b[90m [c8ffd9c3] \u001b[39m\u001b[93m↑ MbedTLS_jll v2.16.6+1 ⇒ v2.16.8+1\u001b[39m\n",
      " \u001b[90m [77ba4419] \u001b[39m\u001b[93m↑ NaNMath v0.3.4 ⇒ v0.3.5\u001b[39m\n",
      " \u001b[90m [4d1e1d77] \u001b[39m\u001b[92m+ Nullables v1.0.0\u001b[39m\n",
      " \u001b[90m [6fe1bfb0] \u001b[39m\u001b[92m+ OffsetArrays v1.4.1\u001b[39m\n",
      " \u001b[90m [bac558e1] \u001b[39m\u001b[93m↑ OrderedCollections v1.3.0 ⇒ v1.3.2\u001b[39m\n",
      " \u001b[90m [69de0a69] \u001b[39m\u001b[93m↑ Parsers v1.0.10 ⇒ v1.0.14\u001b[39m\n",
      " \u001b[90m [995b91a9] \u001b[39m\u001b[93m↑ PlotUtils v1.0.5 ⇒ v1.0.8\u001b[39m\n",
      " \u001b[90m [f27b6e38] \u001b[39m\u001b[92m+ Polynomials v1.1.13\u001b[39m\n",
      " \u001b[90m [08abe8d2] \u001b[39m\u001b[92m+ PrettyTables v0.10.1\u001b[39m\n",
      " \u001b[90m [438e738f] \u001b[39m\u001b[93m↑ PyCall v1.91.4 ⇒ v1.92.1\u001b[39m\n",
      " \u001b[90m [be4d8f0f] \u001b[39m\u001b[92m+ Quadmath v0.5.4\u001b[39m\n",
      " \u001b[90m [3cdcf5f2] \u001b[39m\u001b[93m↑ RecipesBase v1.0.2 ⇒ v1.1.1\u001b[39m\n",
      " \u001b[90m [01d81517] \u001b[39m\u001b[93m↑ RecipesPipeline v0.1.12 ⇒ v0.1.13\u001b[39m\n",
      " \u001b[90m [ae029012] \u001b[39m\u001b[93m↑ Requires v1.0.1 ⇒ v1.1.1\u001b[39m\n",
      " \u001b[90m [992d4aef] \u001b[39m\u001b[93m↑ Showoff v0.3.1 ⇒ v0.3.2\u001b[39m\n",
      " \u001b[90m [90137ffa] \u001b[39m\u001b[93m↑ StaticArrays v0.12.4 ⇒ v0.12.5\u001b[39m\n",
      " \u001b[90m [2913bbd2] \u001b[39m\u001b[93m↑ StatsBase v0.33.0 ⇒ v0.33.2\u001b[39m\n",
      " \u001b[90m [5e66a065] \u001b[39m\u001b[92m+ TableShowUtils v0.2.5\u001b[39m\n",
      " \u001b[90m [382cd787] \u001b[39m\u001b[92m+ TableTraitsUtils v1.0.1\u001b[39m\n",
      " \u001b[90m [bd369af6] \u001b[39m\u001b[93m↑ Tables v1.0.5 ⇒ v1.2.1\u001b[39m\n",
      " \u001b[90m [e0df1984] \u001b[39m\u001b[92m+ TextParse v1.0.1\u001b[39m\n",
      " \u001b[90m [ea10d353] \u001b[39m\u001b[92m+ WeakRefStrings v0.6.2\u001b[39m\n",
      "\u001b[32m\u001b[1m   Building\u001b[22m\u001b[39m Conda ────→ `C:\\Users\\joshz\\.julia\\packages\\Conda\\x5ml4\\deps\\build.log`\n",
      "\u001b[32m\u001b[1m   Building\u001b[22m\u001b[39m PyCall ───→ `C:\\Users\\joshz\\.julia\\packages\\PyCall\\BcTLp\\deps\\build.log`\n",
      "\u001b[32m\u001b[1m   Building\u001b[22m\u001b[39m CodecZlib → `C:\\Users\\joshz\\.julia\\packages\\CodecZlib\\5t9zO\\deps\\build.log`\n"
     ]
    }
   ],
   "source": [
    "Pkg.add(\"CSVFiles\")"
   ]
  },
  {
   "cell_type": "code",
   "execution_count": 6,
   "metadata": {},
   "outputs": [
    {
     "name": "stderr",
     "output_type": "stream",
     "text": [
      "\u001b[32m\u001b[1m  Resolving\u001b[22m\u001b[39m package versions...\n",
      "\u001b[32m\u001b[1mUpdating\u001b[22m\u001b[39m `C:\\Users\\joshz\\.julia\\environments\\v1.5\\Project.toml`\n",
      " \u001b[90m [a93c6f00] \u001b[39m\u001b[92m+ DataFrames v0.22.1\u001b[39m\n",
      "\u001b[32m\u001b[1mNo Changes\u001b[22m\u001b[39m to `C:\\Users\\joshz\\.julia\\environments\\v1.5\\Manifest.toml`\n"
     ]
    }
   ],
   "source": [
    "Pkg.add(\"DataFrames\")"
   ]
  }
 ],
 "metadata": {
  "kernelspec": {
   "display_name": "Julia 1.5.1",
   "language": "julia",
   "name": "julia-1.5"
  },
  "language_info": {
   "file_extension": ".jl",
   "mimetype": "application/julia",
   "name": "julia",
   "version": "1.5.1"
  }
 },
 "nbformat": 4,
 "nbformat_minor": 4
}
